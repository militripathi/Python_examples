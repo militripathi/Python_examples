{
 "cells": [
  {
   "cell_type": "code",
   "execution_count": null,
   "metadata": {},
   "outputs": [],
   "source": [
    "\n",
    "# Validate email ID\n",
    "\n",
    "# Description\n",
    "# Below is format of email ID:\n",
    "# username@website.extension.\n",
    "# Below are the conditions:\n",
    "# 1. The username can only contain characters 0-9, a-z and A-Z.\n",
    "# 2. The website name can contain only characters a-z\n",
    "# 3. The extension can have 2 or 3 alphabets(a-z).\n",
    "\n",
    "# Given an email ID, you have to determine if it is valid or not.\n",
    "\n",
    "# Sample Input:\n",
    "# mili@abc.com\n",
    "\n",
    "# Sample Output:\n",
    "# valid\n",
    "\n",
    "import pandas as pd\n",
    "import numpy as np\n",
    "import re\n",
    "\n",
    "def checkmail(email):\n",
    "    txt=email.split(\"@\",1)\n",
    "   \n",
    "    x1 = txt[0]\n",
    "    pattern = re.compile(\"[A-Za-z0-9]+\")\n",
    "    check1 = pattern.fullmatch(x1)\n",
    "    \n",
    "       \n",
    "    txt2 = txt[1].split(\".\",1)\n",
    "    \n",
    "\n",
    "    \n",
    "    pattern2 = re.compile(\"[a-z]+\")\n",
    "    check2 = pattern2.fullmatch(txt2[0])\n",
    "\n",
    "        \n",
    "    check3 = pattern2.fullmatch(txt2[1])\n",
    "\n",
    "    \n",
    "    if (check1 != None) & (check2 != None) & (((check3 !=None) & ((len(txt2[1]) == 2) | (len(txt2[1]) == 3)))):\n",
    "        return \"valid\"\n",
    "    else:\n",
    "        return \"invalid\"\n",
    "                                            \n",
    "         \n",
    "    #complete the function\n",
    "    #the function should return the strings \"invalid\" or \"valid\" based on the email ID entered\n",
    "\n",
    "email=input()\n",
    "\n",
    "print(checkmail(email))\n"
   ]
  }
 ],
 "metadata": {
  "kernelspec": {
   "display_name": "Python 3",
   "language": "python",
   "name": "python3"
  },
  "language_info": {
   "codemirror_mode": {
    "name": "ipython",
    "version": 3
   },
   "file_extension": ".py",
   "mimetype": "text/x-python",
   "name": "python",
   "nbconvert_exporter": "python",
   "pygments_lexer": "ipython3",
   "version": "3.7.3"
  }
 },
 "nbformat": 4,
 "nbformat_minor": 2
}
